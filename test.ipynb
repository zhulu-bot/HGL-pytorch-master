{
 "cells": [
  {
   "cell_type": "code",
   "execution_count": null,
   "metadata": {
    "collapsed": true
   },
   "outputs": [],
   "source": [
    "\"\"\"\n",
    "Dataloaders for VCR\n",
    "\"\"\"\n",
    "import json\n",
    "import os\n",
    "\n",
    "import numpy as np\n",
    "import torch\n",
    "from allennlp.data.dataset import Batch\n",
    "from allennlp.data.fields import TextField, ListField, LabelField, SequenceLabelField, ArrayField, MetadataField\n",
    "from allennlp.data.instance import Instance\n",
    "from allennlp.data.token_indexers import ELMoTokenCharactersIndexer\n",
    "from allennlp.data.tokenizers import Token\n",
    "from allennlp.data.vocabulary import Vocabulary\n",
    "from allennlp.nn.util import get_text_field_mask\n",
    "from torch.utils.data import Dataset\n",
    "from dataloaders.box_utils import load_image, resize_image, to_tensor_and_normalize\n",
    "from dataloaders.mask_utils import make_mask\n",
    "from dataloaders.bert_field import BertField\n",
    "import h5py\n",
    "from copy import deepcopy\n",
    "from config import VCR_IMAGES_DIR, VCR_ANNOTS_DIR, DATALOADER_DIR, BERT_DIR\n",
    "\n",
    "GENDER_NEUTRAL_NAMES = ['Casey', 'Riley', 'Jessie', 'Jackie', 'Avery', 'Jaime', 'Peyton', 'Kerry', 'Jody', 'Kendall',\n",
    "                        'Peyton', 'Skyler', 'Frankie', 'Pat', 'Quinn']\n",
    "\n",
    "\n",
    "# Here's an example jsonl\n",
    "# {\n",
    "# \"movie\": \"3015_CHARLIE_ST_CLOUD\",\n",
    "# \"objects\": [\"person\", \"person\", \"person\", \"car\"],\n",
    "# \"interesting_scores\": [0],\n",
    "# \"answer_likelihood\": \"possible\",\n",
    "# \"img_fn\": \"lsmdc_3015_CHARLIE_ST_CLOUD/3015_CHARLIE_ST_CLOUD_00.23.57.935-00.24.00.783@0.jpg\",\n",
    "# \"metadata_fn\": \"lsmdc_3015_CHARLIE_ST_CLOUD/3015_CHARLIE_ST_CLOUD_00.23.57.935-00.24.00.783@0.json\",\n",
    "# \"answer_orig\": \"No she does not\",\n",
    "# \"question_orig\": \"Does 3 feel comfortable?\",\n",
    "# \"rationale_orig\": \"She is standing with her arms crossed and looks disturbed\",\n",
    "# \"question\": [\"Does\", [2], \"feel\", \"comfortable\", \"?\"],\n",
    "# \"answer_match_iter\": [3, 0, 2, 1],\n",
    "# \"answer_sources\": [3287, 0, 10184, 2260],\n",
    "# \"answer_choices\": [\n",
    "#     [\"Yes\", \"because\", \"the\", \"person\", \"sitting\", \"next\", \"to\", \"her\", \"is\", \"smiling\", \".\"],\n",
    "#     [\"No\", \"she\", \"does\", \"not\", \".\"],\n",
    "#     [\"Yes\", \",\", \"she\", \"is\", \"wearing\", \"something\", \"with\", \"thin\", \"straps\", \".\"],\n",
    "#     [\"Yes\", \",\", \"she\", \"is\", \"cold\", \".\"]],\n",
    "# \"answer_label\":e 1,\n",
    "# \"rationale_choices\": [\n",
    "#     [\"There\", \"is\", \"snow\", \"on\", \"the\", \"ground\", \",\", \"and\",\n",
    "#         \"she\", \"is\", \"wearing\", \"a\", \"coat\", \"and\", \"hate\", \".\"],\n",
    "#     [\"She\", \"is\", \"standing\", \"with\", \"her\", \"arms\", \"crossed\", \"and\", \"looks\", \"disturbed\", \".\"],\n",
    "#     [\"She\", \"is\", \"sitting\", \"very\", \"rigidly\", \"and\", \"tensely\", \"on\", \"the\", \"edge\", \"of\", \"the\",\n",
    "#         \"bed\", \".\", \"her\", \"posture\", \"is\", \"not\", \"relaxed\", \"and\", \"her\", \"face\", \"looks\", \"serious\", \".\"],\n",
    "#     [[2], \"is\", \"laying\", \"in\", \"bed\", \"but\", \"not\", \"sleeping\", \".\",\n",
    "#         \"she\", \"looks\", \"sad\", \"and\", \"is\", \"curled\", \"into\", \"a\", \"ball\", \".\"]],\n",
    "# \"rationale_sources\": [1921, 0, 9750, 25743],\n",
    "# \"rationale_match_iter\": [3, 0, 2, 1],\n",
    "# \"rationale_label\": 1,\n",
    "# \"img_id\": \"train-0\",\n",
    "# \"question_number\": 0,\n",
    "# \"annot_id\": \"train-0\",\n",
    "# \"match_fold\": \"train-0\",\n",
    "# \"match_index\": 0,\n",
    "# }\n",
    "\n",
    "def _fix_tokenization(tokenized_sent, bert_embs, old_det_to_new_ind, obj_to_type, token_indexers, pad_ind=-1):\n",
    "    \"\"\"\n",
    "    Turn a detection list into what we want: some text, as well as some tags.\n",
    "    :param tokenized_sent: Tokenized sentence with detections collapsed to a list.\n",
    "    :param old_det_to_new_ind: Mapping of the old ID -> new ID (which will be used as the tag)\n",
    "    :param obj_to_type: [person, person, pottedplant] indexed by the old labels\n",
    "    :return: tokenized sentence\n",
    "    \"\"\"\n",
    "\n",
    "    new_tokenization_with_tags = []\n",
    "    for tok in tokenized_sent:\n",
    "        if isinstance(tok, list):\n",
    "            for int_name in tok:\n",
    "                obj_type = obj_to_type[int_name]\n",
    "                new_ind = old_det_to_new_ind[int_name]\n",
    "                if new_ind < 0:\n",
    "                    raise ValueError(\"Oh no, the new index is negative! that means it's invalid. {} {}\".format(\n",
    "                        tokenized_sent, old_det_to_new_ind\n",
    "                    ))\n",
    "                text_to_use = GENDER_NEUTRAL_NAMES[\n",
    "                    new_ind % len(GENDER_NEUTRAL_NAMES)] if obj_type == 'person' else obj_type\n",
    "                new_tokenization_with_tags.append((text_to_use, new_ind))\n",
    "        else:\n",
    "            new_tokenization_with_tags.append((tok, pad_ind))\n",
    "\n",
    "    text_field = BertField([Token(x[0]) for x in new_tokenization_with_tags],\n",
    "                           bert_embs,\n",
    "                           padding_value=0)\n",
    "    tags = SequenceLabelField([x[1] for x in new_tokenization_with_tags], text_field)\n",
    "    return text_field, tags"
   ]
  },
  {
   "cell_type": "code",
   "execution_count": 4,
   "metadata": {},
   "outputs": [
    {
     "ename": "SyntaxError",
     "evalue": "invalid syntax (4095972378.py, line 1)",
     "output_type": "error",
     "traceback": [
      "\u001b[1;36m  File \u001b[1;32m\"C:\\Users\\86182\\AppData\\Local\\Temp\\ipykernel_9204\\4095972378.py\"\u001b[1;36m, line \u001b[1;32m1\u001b[0m\n\u001b[1;33m    def a(input:str = 'aaa':):\u001b[0m\n\u001b[1;37m                           ^\u001b[0m\n\u001b[1;31mSyntaxError\u001b[0m\u001b[1;31m:\u001b[0m invalid syntax\n"
     ]
    }
   ],
   "source": [
    "def a(input:str = 'aaa':):\n",
    "    print(input)\n",
    "a()"
   ]
  },
  {
   "cell_type": "code",
   "execution_count": 3,
   "metadata": {},
   "outputs": [
    {
     "name": "stdout",
     "output_type": "stream",
     "text": [
      "b'i love you\\xe6\\x88\\x91'\n",
      "i love you我\n"
     ]
    }
   ],
   "source": [
    "text = 'i love you我'\n",
    "testBytes = text.encode()\n",
    "print(testBytes)\n",
    "text = testBytes.decode()\n",
    "print(text)"
   ]
  },
  {
   "cell_type": "code",
   "execution_count": null,
   "metadata": {},
   "outputs": [],
   "source": []
  }
 ],
 "metadata": {
  "kernelspec": {
   "display_name": "Python 3 (ipykernel)",
   "language": "python",
   "name": "python3"
  },
  "language_info": {
   "codemirror_mode": {
    "name": "ipython",
    "version": 3
   },
   "file_extension": ".py",
   "mimetype": "text/x-python",
   "name": "python",
   "nbconvert_exporter": "python",
   "pygments_lexer": "ipython3",
   "version": "3.7.13"
  }
 },
 "nbformat": 4,
 "nbformat_minor": 1
}
